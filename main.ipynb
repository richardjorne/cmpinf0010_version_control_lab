{
 "cells": [
  {
   "cell_type": "code",
   "execution_count": 3,
   "metadata": {},
   "outputs": [
    {
     "name": "stdout",
     "output_type": "stream",
     "text": [
      "Hello, oscar! Your zodiac sign is: Sagittarius.\n"
     ]
    }
   ],
   "source": [
    "name = input(\"Enter your name: \")\n",
    "birthday = input(\"Enter your birthdate (MM/DD format, e.g., 03/14): \")\n",
    "\n",
    "try:\n",
    "    month, day = map(int, birthday.split(\"/\"))\n",
    "    if not (1 <= month <= 12 and 1 <= day <= 31):\n",
    "        raise ValueError\n",
    "except:\n",
    "    print(\"Error: Please enter a valid MM/DD format (e.g., 03/14 or 12/25)\")\n",
    "else:\n",
    "    # Determine zodiac sign\n",
    "    if (month == 1 and day >= 20) or (month == 2 and day <= 18):\n",
    "        zodiac = \"Aquarius\"\n",
    "    elif (month == 2 and day >= 19) or (month == 3 and day <= 20):\n",
    "        zodiac = \"Pisces\"\n",
    "    elif (month == 3 and day >= 21) or (month == 4 and day <= 19):\n",
    "        zodiac = \"Aries\"\n",
    "    elif (month == 4 and day >= 20) or (month == 5 and day <= 20):\n",
    "        zodiac = \"Taurus\"\n",
    "    elif (month == 5 and day >= 21) or (month == 6 and day <= 20):\n",
    "        zodiac = \"Gemini\"\n",
    "    elif (month == 6 and day >= 21) or (month == 7 and day <= 22):\n",
    "        zodiac = \"Cancer\"\n",
    "    elif (month == 7 and day >= 23) or (month == 8 and day <= 22):\n",
    "        zodiac = \"Leo\"\n",
    "    elif (month == 8 and day >= 23) or (month == 9 and day <= 22):\n",
    "        zodiac = \"Virgo\"\n",
    "    elif (month == 9 and day >= 23) or (month == 10 and day <= 22):\n",
    "        zodiac = \"Libra\"\n",
    "    elif (month == 10 and day >= 23) or (month == 11 and day <= 21):\n",
    "        zodiac = \"Scorpio\"\n",
    "    elif (month == 11 and day >= 22) or (month == 12 and day <= 21):\n",
    "        zodiac = \"Sagittarius\"\n",
    "    else:\n",
    "        zodiac = \"Capricorn\"\n",
    "    \n",
    "    print(f\"Hello, {name}! Your zodiac sign is: {zodiac}.\")"
   ]
  }
 ],
 "metadata": {
  "kernelspec": {
   "display_name": "INFSCI0510",
   "language": "python",
   "name": "python3"
  },
  "language_info": {
   "codemirror_mode": {
    "name": "ipython",
    "version": 3
   },
   "file_extension": ".py",
   "mimetype": "text/x-python",
   "name": "python",
   "nbconvert_exporter": "python",
   "pygments_lexer": "ipython3",
   "version": "3.11.8"
  }
 },
 "nbformat": 4,
 "nbformat_minor": 2
}
